{
 "cells": [
  {
   "cell_type": "code",
   "execution_count": 1,
   "metadata": {
    "scrolled": true
   },
   "outputs": [
    {
     "name": "stdout",
     "output_type": "stream",
     "text": [
      "Thu Aug 29 08:42:21 2024       \n",
      "+---------------------------------------------------------------------------------------+\n",
      "| NVIDIA-SMI 535.183.01             Driver Version: 535.183.01   CUDA Version: 12.2     |\n",
      "|-----------------------------------------+----------------------+----------------------+\n",
      "| GPU  Name                 Persistence-M | Bus-Id        Disp.A | Volatile Uncorr. ECC |\n",
      "| Fan  Temp   Perf          Pwr:Usage/Cap |         Memory-Usage | GPU-Util  Compute M. |\n",
      "|                                         |                      |               MIG M. |\n",
      "|=========================================+======================+======================|\n",
      "|   0  NVIDIA GeForce GTX TITAN X     Off | 00000000:01:00.0 Off |                  N/A |\n",
      "| 22%   44C    P8              13W / 250W |     16MiB / 12288MiB |      0%      Default |\n",
      "|                                         |                      |                  N/A |\n",
      "+-----------------------------------------+----------------------+----------------------+\n",
      "|   1  NVIDIA GeForce GTX TITAN X     Off | 00000000:02:00.0 Off |                  N/A |\n",
      "| 22%   43C    P8              13W / 250W |      6MiB / 12288MiB |      0%      Default |\n",
      "|                                         |                      |                  N/A |\n",
      "+-----------------------------------------+----------------------+----------------------+\n",
      "|   2  NVIDIA GeForce GTX TITAN X     Off | 00000000:04:00.0 Off |                  N/A |\n",
      "| 22%   35C    P8              13W / 250W |      6MiB / 12288MiB |      0%      Default |\n",
      "|                                         |                      |                  N/A |\n",
      "+-----------------------------------------+----------------------+----------------------+\n",
      "                                                                                         \n",
      "+---------------------------------------------------------------------------------------+\n",
      "| Processes:                                                                            |\n",
      "|  GPU   GI   CI        PID   Type   Process name                            GPU Memory |\n",
      "|        ID   ID                                                             Usage      |\n",
      "|=======================================================================================|\n",
      "|    0   N/A  N/A      1184      G   /usr/lib/xorg/Xorg                            9MiB |\n",
      "|    0   N/A  N/A      1427      G   /usr/bin/gnome-shell                          2MiB |\n",
      "|    1   N/A  N/A      1184      G   /usr/lib/xorg/Xorg                            3MiB |\n",
      "|    2   N/A  N/A      1184      G   /usr/lib/xorg/Xorg                            3MiB |\n",
      "+---------------------------------------------------------------------------------------+\n"
     ]
    }
   ],
   "source": [
    "import os\n",
    "os.chdir('../AiATrack')\n",
    "\n",
    "from lib.test.evaluation import *\n",
    "from collections import OrderedDict\n",
    "import importlib\n",
    "import cv2 as cv\n",
    "import glob\n",
    "import torch\n",
    "import time\n",
    "from tqdm import tqdm\n",
    "from multiprocessing import Pool\n",
    "!nvidia-smi"
   ]
  },
  {
   "cell_type": "code",
   "execution_count": 2,
   "metadata": {},
   "outputs": [],
   "source": [
    "torch.cuda.empty_cache()"
   ]
  },
  {
   "cell_type": "code",
   "execution_count": 3,
   "metadata": {},
   "outputs": [],
   "source": [
    "param_module = importlib.import_module('lib.test.parameter.aiatrack')\n",
    "params = param_module.parameters('baseline')\n",
    "tracker_module = importlib.import_module('lib.test.tracker.aiatrack')\n",
    "tracker_class = tracker_module.get_tracker_class()"
   ]
  },
  {
   "cell_type": "code",
   "execution_count": 4,
   "metadata": {},
   "outputs": [],
   "source": [
    "dataset = 'lasot'\n",
    "# experiments with different datasets (each dataset has it's own config, leading to different results)\n",
    "tracker = tracker_class(params, dataset, debug = True)"
   ]
  },
  {
   "cell_type": "code",
   "execution_count": 5,
   "metadata": {},
   "outputs": [],
   "source": [
    "def _read_image(image_file: str):\n",
    "    if isinstance(image_file, str):\n",
    "        im = cv.imread(image_file)\n",
    "        return cv.cvtColor(im, cv.COLOR_BGR2RGB)\n",
    "    else:\n",
    "        raise ValueError('ERROR: type of image_file should be str')"
   ]
  },
  {
   "cell_type": "code",
   "execution_count": 6,
   "metadata": {},
   "outputs": [],
   "source": [
    "# all boxes are offset inside the BBox() class, ToDo: Look into this\n",
    "\n",
    "threshold_val = 20\n",
    "FOV = 90\n",
    "seq_num = '0117'\n",
    "frames = sorted(glob.glob(f'/mnt/data_f_500/aarsh/data/{seq_num}/image/*.jpg'))\n",
    "init_bbox_0115 = [2354.8, 1157.0, 26, 46]\n",
    "init_bbox_0016 = [3157.2672413793102, 464.0, 603, 447]\n",
    "init_bbox_0117 = [848.655887230514, 1145.0,  887, 754]\n",
    "init_bbox_0018 = [1980.09375, 966.0, 75, 48]\n",
    "init_bbox_0027 = []\n",
    "\n",
    "\n",
    "init_bbox_0006 = [1013.52, 939.0, 179, 21]\n",
    "init_bbox_0035 = [3485.2474226804125, 786.0, 673, 860]\n",
    "init_bbox_0007 = []\n",
    "init_bbox_0076 = []\n",
    "init_bbox_0088 = [2662.573529411765, 784.0, 101, 300] # complete/partial occlusion\n",
    "init_bbox_0089 = [642.5692307692307, 986, 63, 106] # partial occlusion\n",
    "init_bbox_0040 = []\n",
    "\n",
    "init_bbox_0028 = []\n",
    "init_bbox_0038 = [3478.679012345679, 1743.5, 411, 169]\n",
    "init_bbox_0074 = [3135.246031746032, 1226.5, 207, 325] # hyperparam case (refer_cap)\n",
    "init_bbox_0075 = [1559.2916666666667,  922.5, 28, 75] # hyperparam case (cache_siz)\n",
    "init_bbox_0106 = [1623.0758293838862, 1049.0, 224, 405] # complete occlusion\n",
    "init_bbox_0044 = [1341.179487179487,  960.0,  335, 204] # hyperparam case both\n",
    "init_bbox_0019 = [2009.1060606060605, 1044.0, 160, 112]\n",
    "init_bbox_0081 = [48.284615384615336, 981, 121, 181] #large distortion, hyperparam case\n",
    "init_bbox_0094 = []\n",
    "\n",
    "init_bbox_0050 = [1401.0285714285715, 1093.0, 151, 143]\n",
    "init_info = {\n",
    "    'init_bbox': init_bbox_0117\n",
    "}"
   ]
  },
  {
   "cell_type": "code",
   "execution_count": 7,
   "metadata": {},
   "outputs": [],
   "source": [
    "def get_search_crop(frames, init_info, seq_name = None, threshold = 20, FOV = 90, kernel_size = 500, apply_method = False):\n",
    "    output = {'target_bbox': [],\n",
    "                      'time': []}\n",
    "\n",
    "    if tracker.params.save_all_boxes:\n",
    "        output['all_boxes'] = list()\n",
    "        output['all_scores'] = list()\n",
    "\n",
    "\n",
    "    def _store_outputs(tracker_out: dict, defaults=None):\n",
    "                defaults = dict() if defaults is None else defaults\n",
    "                for key in output.keys():\n",
    "                    val = tracker_out.get(key, defaults.get(key, None))\n",
    "                    if key in tracker_out or val is not None:\n",
    "                        output[key].append(val)\n",
    "\n",
    "    # Initialize\n",
    "    image = _read_image(frames[0])\n",
    "\n",
    "    start_time = time.time()\n",
    "    out = tracker.initialize(image, init_info, seq_name = seq_name)\n",
    "    if out is None:\n",
    "        out = dict()\n",
    "\n",
    "    prev_output = OrderedDict(out)\n",
    "\n",
    "    init_default = {'target_bbox': init_info.get('init_bbox'),\n",
    "                    'time': time.time() - start_time}\n",
    "\n",
    "    if tracker.params.save_all_boxes:\n",
    "        init_default['all_boxes'] = out['all_boxes']\n",
    "        init_default['all_scores'] = out['all_scores']\n",
    "\n",
    "    _store_outputs(out, init_default)\n",
    "\n",
    "    for frame_num, frame_path in enumerate(tqdm(frames[1:]), start=1):\n",
    "        image = _read_image(frame_path)\n",
    "\n",
    "        start_time = time.time()\n",
    "\n",
    "        out = tracker.track(image, seq_name = seq_name)\n",
    "\n",
    "        prev_output = OrderedDict(out)\n",
    "        _store_outputs(out, {'time': time.time() - start_time})\n",
    "    return output"
   ]
  },
  {
   "cell_type": "code",
   "execution_count": 8,
   "metadata": {},
   "outputs": [
    {
     "name": "stderr",
     "output_type": "stream",
     "text": [
      "\r",
      "  0%|          | 0/663 [00:00<?, ?it/s]"
     ]
    },
    {
     "name": "stdout",
     "output_type": "stream",
     "text": [
      "Using /home/aarsh/.cache/torch_extensions as PyTorch extensions root...\n",
      "Detected CUDA files, patching ldflags\n",
      "Emitting ninja build file /home/aarsh/.cache/torch_extensions/_prroi_pooling/build.ninja...\n",
      "Building extension module _prroi_pooling...\n",
      "Allowing ninja to set a default number of workers... (overridable by setting the environment variable MAX_JOBS=N)\n",
      "Loading extension module _prroi_pooling...\n"
     ]
    },
    {
     "name": "stderr",
     "output_type": "stream",
     "text": [
      "100%|██████████| 663/663 [03:52<00:00,  2.86it/s]\n"
     ]
    }
   ],
   "source": [
    "output_dict = get_search_crop(frames, init_info, f'{seq_num}_{dataset}_tangent_{threshold_val}_{FOV}', threshold = threshold_val, FOV = FOV, apply_method = False)"
   ]
  },
  {
   "cell_type": "code",
   "execution_count": 9,
   "metadata": {},
   "outputs": [
    {
     "name": "stderr",
     "output_type": "stream",
     "text": [
      "100%|██████████| 663/663 [00:43<00:00, 15.32it/s]\n"
     ]
    }
   ],
   "source": [
    "def read_image(image_path):\n",
    "    return cv.imread(image_path)\n",
    "\n",
    "def create_video_from_images(image_folder, output_video_path, fps):\n",
    "    images = [img for img in os.listdir(image_folder) if img.endswith(\".png\") or img.endswith(\".jpg\")]\n",
    "    images.sort()\n",
    "    \n",
    "    # Get dimensions of the images\n",
    "    frame = cv.cvtColor(cv.imread(os.path.join(image_folder, images[0])), cv.COLOR_BGR2RGB)\n",
    "    height, width, layers = frame.shape\n",
    "    \n",
    "    video = cv.VideoWriter(output_video_path, cv.VideoWriter_fourcc(*'mp4v'), fps, (width, height))\n",
    "    \n",
    "    image_paths = [os.path.join(image_folder, img) for img in images]\n",
    "    \n",
    "    # Use multiprocessing to read images in parallel\n",
    "    with Pool() as pool:\n",
    "        for image in tqdm(pool.imap(read_image, image_paths), total=len(images)):\n",
    "            video.write(image)\n",
    "    \n",
    "    video.release()\n",
    "\n",
    "image_folder = f'/mnt/data_f_500/aarsh/outputs/{seq_num}_{dataset}_tangent_{threshold_val}_{FOV}'\n",
    "output_video_path = f'/mnt/data_f_500/aarsh/output_vids/{seq_num}_{dataset}_tangent_thresh_{threshold_val}_{FOV}.mp4'\n",
    "fps = 15  # Frames per second\n",
    "\n",
    "create_video_from_images(image_folder, output_video_path, fps)\n"
   ]
  },
  {
   "cell_type": "code",
   "execution_count": 10,
   "metadata": {},
   "outputs": [],
   "source": [
    "# Open a text file in write mode\n",
    "with open(f'../{seq_num}.txt', 'w') as file:\n",
    "    for i, sublist in enumerate(output_dict['target_bbox']):\n",
    "        # Convert each sublist to a string and join elements with a space (or any delimiter you prefer)\n",
    "        line = ' '.join(map(str, sublist))\n",
    "        # Write the line to the file\n",
    "        file.write(line)\n",
    "        # Add a newline character if it's not the last list\n",
    "        if i < len(output_dict['target_bbox']) - 1:\n",
    "            file.write('\\n')\n",
    "\n"
   ]
  },
  {
   "cell_type": "code",
   "execution_count": null,
   "metadata": {},
   "outputs": [],
   "source": []
  }
 ],
 "metadata": {
  "kernelspec": {
   "display_name": "Python 3",
   "language": "python",
   "name": "python3"
  },
  "language_info": {
   "codemirror_mode": {
    "name": "ipython",
    "version": 3
   },
   "file_extension": ".py",
   "mimetype": "text/x-python",
   "name": "python",
   "nbconvert_exporter": "python",
   "pygments_lexer": "ipython3",
   "version": "3.6.13"
  }
 },
 "nbformat": 4,
 "nbformat_minor": 2
}
